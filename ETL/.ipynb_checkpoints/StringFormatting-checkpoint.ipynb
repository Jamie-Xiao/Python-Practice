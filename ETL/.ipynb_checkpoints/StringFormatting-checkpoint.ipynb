{
 "cells": [
  {
   "cell_type": "markdown",
   "id": "db2df2ab",
   "metadata": {},
   "source": [
    "## Advanced Operations for Dicts, List, Numbers, and Dates"
   ]
  },
  {
   "cell_type": "code",
   "execution_count": 1,
   "id": "61617ea3",
   "metadata": {},
   "outputs": [
    {
     "name": "stdout",
     "output_type": "stream",
     "text": [
      "my name is Nikki, and I am 26 years old\n"
     ]
    }
   ],
   "source": [
    "# list\n",
    "my_list = ['Nikki',26]\n",
    "print('my name is {0[0]}, and I am {0[1]} years old'.format(my_list))"
   ]
  },
  {
   "cell_type": "code",
   "execution_count": 2,
   "id": "3eff1a20",
   "metadata": {},
   "outputs": [
    {
     "name": "stdout",
     "output_type": "stream",
     "text": [
      "my name is Nikki, and I am 26 years old\n"
     ]
    }
   ],
   "source": [
    "# dict\n",
    "my_dict = {'name':'Nikki','age':26}\n",
    "print('my name is {0[name]}, and I am {0[age]} years old'.format(my_dict))"
   ]
  },
  {
   "cell_type": "code",
   "execution_count": 3,
   "id": "4eaa951c",
   "metadata": {},
   "outputs": [
    {
     "name": "stdout",
     "output_type": "stream",
     "text": [
      "my name is Nikki, and I am 26 years old\n"
     ]
    }
   ],
   "source": [
    "# attribute\n",
    "class Person():\n",
    "    def __init__(self,name,age):\n",
    "        self.name = name\n",
    "        self.age = age\n",
    "my_instance = Person('Nikki',26)\n",
    "print('my name is {0.name}, and I am {0.age} years old'.format(my_instance))"
   ]
  },
  {
   "cell_type": "code",
   "execution_count": 4,
   "id": "bf450c1f",
   "metadata": {},
   "outputs": [
    {
     "name": "stdout",
     "output_type": "stream",
     "text": [
      "my name is Nikki, and I am 26 years old\n",
      "my name is Nikki, and I am 26 years old\n"
     ]
    }
   ],
   "source": [
    "# keyword arguments\n",
    "print('my name is {name}, and I am {age} years old'.format(name='Nikki',age=26))\n",
    "print('my name is {name}, and I am {age} years old'.format(**my_dict)) # it's more readable to read dictionary values"
   ]
  },
  {
   "cell_type": "code",
   "execution_count": 5,
   "id": "8dd1bc23",
   "metadata": {},
   "outputs": [
    {
     "name": "stdout",
     "output_type": "stream",
     "text": [
      "The value is 01\n",
      "The value is 02\n",
      "The value is 03\n",
      "The value is 04\n",
      "The value is 05\n",
      "The value is 06\n",
      "The value is 07\n",
      "The value is 08\n",
      "The value is 09\n"
     ]
    }
   ],
   "source": [
    "# number, int\n",
    "for i in range(1,10):\n",
    "    print('The value is {:02}'.format(i)) # zero-padded to 2 digits"
   ]
  },
  {
   "cell_type": "code",
   "execution_count": 6,
   "id": "edae195c",
   "metadata": {},
   "outputs": [
    {
     "name": "stdout",
     "output_type": "stream",
     "text": [
      "The pi is equal to: 3.141593\n"
     ]
    }
   ],
   "source": [
    "# number, decimal\n",
    "import math\n",
    "print('The pi is equal to: {:.06f}'.format(math.pi)) # keep 6 decimal places"
   ]
  },
  {
   "cell_type": "code",
   "execution_count": 7,
   "id": "0adf82a8",
   "metadata": {},
   "outputs": [
    {
     "name": "stdout",
     "output_type": "stream",
     "text": [
      "1MB is 1,048,576B\n",
      "1MB is 1,048,576.00B\n"
     ]
    }
   ],
   "source": [
    "# number, bigint\n",
    "print('1MB is {:,}B'.format(1024*1024)) # use comma as separator\n",
    "print('1MB is {:,.2f}B'.format(1024*1024)) # use comma as separator, and 2 decimal places"
   ]
  },
  {
   "cell_type": "code",
   "execution_count": 8,
   "id": "752e3f0c",
   "metadata": {},
   "outputs": [
    {
     "name": "stdout",
     "output_type": "stream",
     "text": [
      "The defaul datetime foramt is 2024-05-14 23:00:30\n",
      "May 14, 2024 fell on a Tuesday and was the 135 day of the year\n"
     ]
    }
   ],
   "source": [
    "# datetime\n",
    "from datetime import datetime\n",
    "my_date =  datetime(2024,5,14,23,0,30)\n",
    "print('The defaul datetime foramt is', my_date)\n",
    "# expected result: May 14, 2024 fell on a Tuesday and was the 135 day of the year\n",
    "print('{0:%b %d, %Y} fell on a {0:%A} and was the {0:%j} day of the year'.format(my_date)) # 0 as a place holder"
   ]
  }
 ],
 "metadata": {
  "kernelspec": {
   "display_name": "Python 3 (ipykernel)",
   "language": "python",
   "name": "python3"
  },
  "language_info": {
   "codemirror_mode": {
    "name": "ipython",
    "version": 3
   },
   "file_extension": ".py",
   "mimetype": "text/x-python",
   "name": "python",
   "nbconvert_exporter": "python",
   "pygments_lexer": "ipython3",
   "version": "3.9.13"
  }
 },
 "nbformat": 4,
 "nbformat_minor": 5
}
